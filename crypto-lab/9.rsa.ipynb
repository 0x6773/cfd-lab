{
 "cells": [
  {
   "cell_type": "code",
   "execution_count": 1,
   "metadata": {
    "collapsed": false,
    "deletable": true,
    "editable": true
   },
   "outputs": [],
   "source": [
    "p,q = 257,727\n",
    "n,e = p*q,5"
   ]
  },
  {
   "cell_type": "code",
   "execution_count": 2,
   "metadata": {
    "collapsed": false,
    "deletable": true,
    "editable": true
   },
   "outputs": [],
   "source": [
    "def convertToInteger(text, K):\n",
    "    \"\"\"\n",
    "    convert to integer representation\n",
    "    \"\"\"\n",
    "    return list(map(K.index, text))\n",
    "\n",
    "def convertToString(intL, K):\n",
    "    \"\"\"\n",
    "    convert to string representation\n",
    "    \"\"\"\n",
    "    return \"\".join(list(map(lambda x: K[x], intL)))\n",
    "\n",
    "def base10(p, N):\n",
    "    \"\"\"\n",
    "    Convert base N number to base 10\n",
    "    \"\"\"\n",
    "    val = 0\n",
    "    for i, x in enumerate(p[::-1]):\n",
    "        val += N ** (i) * x\n",
    "    return val\n",
    "\n",
    "def baseN(c, N):\n",
    "    \"\"\"\n",
    "    Convert base 10 number to N\n",
    "    \"\"\"\n",
    "    val = []\n",
    "    while c != 0:\n",
    "        val.append(c % N)\n",
    "        c = c // N\n",
    "    return val[::-1] "
   ]
  },
  {
   "cell_type": "code",
   "execution_count": 3,
   "metadata": {
    "collapsed": true
   },
   "outputs": [],
   "source": [
    "# Extended Euclidean to find mod inverse\n",
    "def egcd(a, b):\n",
    "    if a == 0:\n",
    "        return (b, 0, 1)\n",
    "    else:\n",
    "        g, x, y = egcd(b % a, a)\n",
    "        return (g, y - (b // a) * x, x)\n",
    "def mulinv(b, n):\n",
    "    g, x, _ = egcd(b, n)\n",
    "    if g == 1:\n",
    "        return x % n"
   ]
  },
  {
   "cell_type": "code",
   "execution_count": 4,
   "metadata": {
    "collapsed": true
   },
   "outputs": [],
   "source": [
    "def RSAEncrypt(P, K, n, e):\n",
    "    \"\"\"\n",
    "    RSA Encryption algorithm\n",
    "    \"\"\"\n",
    "    intP = convertToInteger(P, K)\n",
    "    Pl = base10(intP, len(K))\n",
    "    Cl = pow(Pl, e, n)\n",
    "    intC = baseN(Cl, len(K))\n",
    "    C = convertToString(intC, K)\n",
    "    return C\n",
    "\n",
    "def RSADecypt(C, K, n, p, q, e):\n",
    "    \"\"\"\n",
    "    RSA Decryption algorithm\n",
    "    \"\"\"\n",
    "    d = mulinv(e, (p - 1) * (q - 1))\n",
    "    intC = convertToInteger(C, K)\n",
    "    Cl = base10(intC, len(K))\n",
    "    Pl = pow(Cl, d, n)\n",
    "    intP = baseN(Pl, len(K))\n",
    "    P = convertToString(intP, K)\n",
    "    return P"
   ]
  },
  {
   "cell_type": "code",
   "execution_count": 5,
   "metadata": {
    "collapsed": true
   },
   "outputs": [],
   "source": [
    "K = ['0', 'a', 'b', 'c', 'd', 'e']\n",
    "P = 'abdc00a'"
   ]
  },
  {
   "cell_type": "code",
   "execution_count": 6,
   "metadata": {
    "collapsed": false,
    "deletable": true,
    "editable": true
   },
   "outputs": [
    {
     "name": "stdout",
     "output_type": "stream",
     "text": [
      "RSA Ecrytion of 'abdc00a' is 'bc0db0'\n"
     ]
    }
   ],
   "source": [
    "C = RSAEncrypt(P, K, n, e)\n",
    "print(\"RSA Ecrytion of '{}' is '{}'\".format(P, C))"
   ]
  },
  {
   "cell_type": "code",
   "execution_count": 7,
   "metadata": {
    "collapsed": false,
    "deletable": true,
    "editable": true
   },
   "outputs": [
    {
     "name": "stdout",
     "output_type": "stream",
     "text": [
      "RSA Decryption of 'bc0db0' is 'abdc00a'\n"
     ]
    }
   ],
   "source": [
    "P = RSADecypt(C, K, n, p, q, e)\n",
    "print(\"RSA Decryption of '{}' is '{}'\".format(C, P))"
   ]
  },
  {
   "cell_type": "code",
   "execution_count": null,
   "metadata": {
    "collapsed": true
   },
   "outputs": [],
   "source": []
  }
 ],
 "metadata": {
  "kernelspec": {
   "display_name": "Python [default]",
   "language": "python",
   "name": "python3"
  },
  "language_info": {
   "codemirror_mode": {
    "name": "ipython",
    "version": 3
   },
   "file_extension": ".py",
   "mimetype": "text/x-python",
   "name": "python",
   "nbconvert_exporter": "python",
   "pygments_lexer": "ipython3",
   "version": "3.5.3"
  }
 },
 "nbformat": 4,
 "nbformat_minor": 2
}
